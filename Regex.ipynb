{
 "cells": [
  {
   "cell_type": "markdown",
   "metadata": {},
   "source": [
    "## Regex Matching\n",
    "\n",
    "A regular expression is just a pattern of characters that we use to perform a\n",
    "search in a text.  \n",
    "For example, the regular expression `the` means: the letter\n",
    "`t`, followed by the letter `h`, followed by the letter `e`."
   ]
  },
  {
   "cell_type": "markdown",
   "metadata": {},
   "source": [
    "### Meta charecter\n",
    "\n",
    "Meta characters are the building blocks of regular expressions.  Meta\n",
    "characters do not stand for themselves but instead are interpreted in some\n",
    "special way. Some meta characters have a special meaning and are written inside\n",
    "square brackets.\n",
    "The meta characters are as follows:"
   ]
  },
  {
   "cell_type": "markdown",
   "metadata": {},
   "source": [
    "`Meta character`      |      `Description`\n",
    "\n",
    "- `.`        - Any Character Except New Line\n",
    "- `\\d`      - Digit (0-9)\n",
    "- `\\D`      - Not a Digit (0-9)\n",
    "- `\\w`      - Word Character (a-z, A-Z, 0-9, _)\n",
    "- `\\W`      - Not a Word Character\n",
    "- `\\s`      - Whitespace (space, tab, newline)\n",
    "- `\\S`      - Not Whitespace (space, tab, newline)\n",
    "\n",
    "- `\\b`      - Word Boundary\n",
    "- `\\B`      - Not a Word Boundary\n",
    "- `^`        - Beginning of a String\n",
    "- `$`        - End of a String\n",
    "\n",
    "- `[]`      - Matches Characters in brackets\n",
    "- `[^ ]`  - Matches Characters NOT in brackets\n",
    "- `|`         - Either Or\n",
    "- `\\`         - Escapes the next character. This allows you to match reserved characters <code>[ ] ( ) { } . * + ? ^ $ \\ &#124;</code>\n",
    "- `( )`     - Group\n",
    "\n",
    "Quantifiers:\n",
    "- `*`           - 0 or More\n",
    "- `+`           - 1 or More\n",
    "- `?`           - 0 or One\n",
    "- `{3}`      - Exact Number\n",
    "- `{3,4}`  - Range of Numbers (Minimum, Maximum)"
   ]
  },
  {
   "cell_type": "markdown",
   "metadata": {},
   "source": [
    "<!-- ## 2. Meta Characters\n",
    "\n",
    "Meta characters are the building blocks of regular expressions.  Meta\n",
    "characters do not stand for themselves but instead are interpreted in some\n",
    "special way. Some meta characters have a special meaning and are written inside\n",
    "square brackets. The meta characters are as follows:\n",
    "\n",
    "|Meta character|Description|\n",
    "|:----:|----|\n",
    "|.|Period matches any single character except a line break.|\n",
    "|[ ]|Character class. Matches any character contained between the square brackets.|\n",
    "|[^ ]|Negated character class. Matches any character that is not contained between the square brackets|\n",
    "|*|Matches 0 or more repetitions of the preceding symbol.|\n",
    "|+|Matches 1 or more repetitions of the preceding symbol.|\n",
    "|?|Makes the preceding symbol optional.|\n",
    "|{n,m}|Braces. Matches at least \"n\" but not more than \"m\" repetitions of the preceding symbol.|\n",
    "|(xyz)|Character group. Matches the characters xyz in that exact order.|\n",
    "|&#124;|Alternation. Matches either the characters before or the characters after the symbol.|\n",
    "|&#92;|Escapes the next character. This allows you to match reserved characters <code>[ ] ( ) { } . * + ? ^ $ \\ &#124;</code>|\n",
    "|^|Matches the beginning of the input.|\n",
    "|$|Matches the end of the input.| -->"
   ]
  },
  {
   "cell_type": "markdown",
   "metadata": {},
   "source": [
    "<p>\n",
    "    <a href=\"\">\n",
    "        <img src=\"Regex.png\">\n",
    "    </a>\n",
    "</p>"
   ]
  },
  {
   "cell_type": "markdown",
   "metadata": {},
   "source": [
    "### Import Regex Module for Python"
   ]
  },
  {
   "cell_type": "code",
   "execution_count": 2,
   "metadata": {},
   "outputs": [],
   "source": [
    "import re"
   ]
  },
  {
   "cell_type": "code",
   "execution_count": 165,
   "metadata": {},
   "outputs": [],
   "source": [
    "# Define some text for search using regex\n",
    "text_to_search = '''abcdefghijklmnopqurtuvwxyz\n",
    "ABCDEFGHIJKLMNOPQRSTUVWXYZ\n",
    "1234567890\n",
    "Ha HaHa\n",
    "MetaCharacters (Need to be escaped):\n",
    ". ^ $ * + ? { } [ ] \\ | ( )\n",
    "coreyms.com\n",
    "321-555-4321\n",
    "123.555.1234\n",
    "123*555*1234\n",
    "800-555-1234\n",
    "900-555-1234\n",
    "Mr. Schafer\n",
    "Mr Smith\n",
    "Ms Davis\n",
    "Mrs. Robinson\n",
    "Mr. T\n",
    "\\n new \n",
    "\\nnew \n",
    "\\tnew \n",
    "\\anew \n",
    "+8801756-770501\n",
    "\n",
    "cat\n",
    "mat\n",
    "bat\n",
    "\n",
    "'''\n",
    "sentence = 'Start a sentence and then bring it to an end'"
   ]
  },
  {
   "cell_type": "markdown",
   "metadata": {},
   "source": [
    "### Raw String \n",
    "\n",
    "In raw string, any charecter is not handled as special charecter. \n",
    "Like, `\\n` for new line or `\\t` for Tab. "
   ]
  },
  {
   "cell_type": "code",
   "execution_count": 9,
   "metadata": {},
   "outputs": [
    {
     "name": "stdout",
     "output_type": "stream",
     "text": [
      "\t Hello World\n",
      "\\t Hello World\n"
     ]
    }
   ],
   "source": [
    "print(\"\\t Hello World\")\n",
    "print(r\"\\t Hello World\") # Raw String"
   ]
  },
  {
   "cell_type": "code",
   "execution_count": 23,
   "metadata": {},
   "outputs": [
    {
     "name": "stdout",
     "output_type": "stream",
     "text": [
      "<re.Match object; span=(216, 218), match='Mr'>\n",
      "<re.Match object; span=(228, 230), match='Mr'>\n",
      "<re.Match object; span=(246, 248), match='Mr'>\n",
      "<re.Match object; span=(260, 262), match='Mr'>\n"
     ]
    }
   ],
   "source": [
    "pattern = re.compile(r'Mr')\n",
    "\n",
    "# matches = pattern.search(text_to_search)\n",
    "matches = pattern.finditer(text_to_search)\n",
    "# matches = pattern.findall(text_to_search)\n",
    "\n",
    "# print(matches)\n",
    "for match in matches:\n",
    "    print(match)"
   ]
  },
  {
   "cell_type": "code",
   "execution_count": 81,
   "metadata": {},
   "outputs": [],
   "source": [
    "pattern = re.compile(r'.') # It will search everything except new line\n",
    "pattern = re.compile(r'\\d') # It will search Digit (0-9)\n",
    "pattern = re.compile(r'\\w') # It will search Word Character (a-z, A-Z, 0-9, _)\n",
    "pattern = re.compile(r'\\W') # It will search Not a Word Character\n",
    "pattern = re.compile(r'\\s') # It will search whitespace (space, tab, newline)\n",
    "pattern = re.compile(r'\\S') # It will search not a whitespace (space, tab, newline)\n",
    "pattern = re.compile(r'\\bRo')  # Word Boundary, start of word\n",
    "pattern = re.compile(r'\\Bbi')  # Word Boundary, Middle of the word\n",
    "\n",
    "\n",
    "matches = pattern.finditer(text_to_search)\n",
    "\n",
    "\n",
    "for match in matches:\n",
    "    print(match)\n"
   ]
  },
  {
   "cell_type": "code",
   "execution_count": 75,
   "metadata": {},
   "outputs": [
    {
     "name": "stdout",
     "output_type": "stream",
     "text": [
      "<re.Match object; span=(111, 112), match='.'>\n",
      "<re.Match object; span=(146, 147), match='.'>\n",
      "<re.Match object; span=(167, 168), match='.'>\n",
      "<re.Match object; span=(171, 172), match='.'>\n",
      "<re.Match object; span=(218, 219), match='.'>\n",
      "<re.Match object; span=(249, 250), match='.'>\n",
      "<re.Match object; span=(262, 263), match='.'>\n"
     ]
    }
   ],
   "source": [
    "pattern = re.compile(r'\\.')  # `\\` Is a escape charecter. Now it will search for `.`\n",
    "\n",
    "matches = pattern.finditer(text_to_search)\n",
    "\n",
    "for match in matches:\n",
    "    print(match)"
   ]
  },
  {
   "cell_type": "code",
   "execution_count": 56,
   "metadata": {},
   "outputs": [
    {
     "name": "stdout",
     "output_type": "stream",
     "text": [
      "<re.Match object; span=(139, 150), match='coreyms.com'>\n"
     ]
    }
   ],
   "source": [
    "pattern = re.compile(r'(\\w).{1,9}\\.com')  # Find any word (1,9) Charecter long .com\n",
    "\n",
    "matches = pattern.finditer(text_to_search)\n",
    "\n",
    "for match in matches:\n",
    "    print(match)"
   ]
  },
  {
   "cell_type": "code",
   "execution_count": 90,
   "metadata": {},
   "outputs": [
    {
     "name": "stdout",
     "output_type": "stream",
     "text": [
      "<re.Match object; span=(41, 44), match='end'>\n"
     ]
    }
   ],
   "source": [
    "pattern = re.compile(r'^Start')  # Start of the sentance\n",
    "pattern = re.compile(r'end$')  # Start of the sentance\n",
    "\n",
    "matches = pattern.finditer(sentence)\n",
    "\n",
    "for match in matches:\n",
    "    print(match)"
   ]
  },
  {
   "cell_type": "code",
   "execution_count": 112,
   "metadata": {},
   "outputs": [
    {
     "name": "stdout",
     "output_type": "stream",
     "text": [
      "<re.Match object; span=(284, 287), match='cat'>\n",
      "<re.Match object; span=(288, 291), match='mat'>\n"
     ]
    }
   ],
   "source": [
    "pattern = re.compile(r'[^b]at')  # find cat, mat except bat which start with b `^` inside [ ] works as not start with  \n",
    "\n",
    "matches = pattern.finditer(text_to_search)\n",
    "\n",
    "for match in matches:\n",
    "    print(match)"
   ]
  },
  {
   "cell_type": "markdown",
   "metadata": {},
   "source": [
    "For find all the name in following structure"
   ]
  },
  {
   "cell_type": "code",
   "execution_count": 124,
   "metadata": {},
   "outputs": [
    {
     "name": "stdout",
     "output_type": "stream",
     "text": [
      "<re.Match object; span=(215, 226), match='Mr. Schafer'>\n",
      "<re.Match object; span=(227, 235), match='Mr Smith'>\n",
      "<re.Match object; span=(236, 244), match='Ms Davis'>\n",
      "<re.Match object; span=(259, 264), match='Mr. T'>\n"
     ]
    }
   ],
   "source": [
    "pattern = re.compile(r'M[r|rs]\\.?\\s[A-Z]\\w*')  # M - Matches M \n",
    "                                                # [r|rs] matches Mrs/Ms\n",
    "                                                # \\.? Matches a `.` after Mr - `?` means 0 or 1 \n",
    "                                                # \\s matched space\n",
    "                                                # [A-Z] matches any uppercase A-Z\n",
    "                                                # \\w* matched any charecter and `*` means 0 or more \n",
    "\n",
    "matches = pattern.finditer(text_to_search)\n",
    "\n",
    "for match in matches:\n",
    "    print(match)"
   ]
  },
  {
   "cell_type": "code",
   "execution_count": 268,
   "metadata": {},
   "outputs": [
    {
     "name": "stdout",
     "output_type": "stream",
     "text": [
      "<re.Match object; span=(1, 5), match='\\nabc'>\n"
     ]
    }
   ],
   "source": [
    "text = '''&\\nabc\\t\\a&\\section'''\n",
    "\n",
    "pattern = re.compile(r'\\n+\\w*') \n",
    "\n",
    "matches = pattern.finditer(text)\n",
    "\n",
    "for match in matches:\n",
    "    print(match)"
   ]
  },
  {
   "cell_type": "code",
   "execution_count": 154,
   "metadata": {},
   "outputs": [
    {
     "name": "stdout",
     "output_type": "stream",
     "text": [
      "<re.Match object; span=(150, 162), match='321-555-4321'>\n",
      "<re.Match object; span=(163, 175), match='123.555.1234'>\n",
      "<re.Match object; span=(176, 188), match='123*555*1234'>\n",
      "<re.Match object; span=(189, 201), match='800-555-1234'>\n",
      "<re.Match object; span=(202, 214), match='900-555-1234'>\n"
     ]
    }
   ],
   "source": [
    "pattern = re.compile(r'\\+880(\\d){4}\\-(\\d){6}')  # Match any phone number\n",
    "\n",
    "pattern = re.compile(r'\\d\\d\\d\\-\\d\\d\\d\\-\\d\\d\\d\\d')  # Match any phone number\n",
    "pattern = re.compile(r'\\d\\d\\d[-.*]\\d\\d\\d[-.*]\\d\\d\\d\\d')  # Match any phone number\n",
    "pattern = re.compile(r'\\d{3}[-.*]\\d{3}[-.*]\\d{4}')  # same as previous\n",
    "\n",
    "\n",
    "\n",
    "matches = pattern.finditer(text_to_search)\n",
    "\n",
    "for match in matches:\n",
    "    print(match)"
   ]
  },
  {
   "cell_type": "code",
   "execution_count": 128,
   "metadata": {},
   "outputs": [],
   "source": [
    "emails = '''\n",
    "CoreyMSchafer@gmail.com\n",
    "Corey.MSchafer@gmail.com\n",
    "corey.schafer@university.edu\n",
    "corey-321-schafer@my-work.net\n",
    "'''"
   ]
  },
  {
   "cell_type": "code",
   "execution_count": 133,
   "metadata": {},
   "outputs": [
    {
     "name": "stdout",
     "output_type": "stream",
     "text": [
      "<re.Match object; span=(1, 24), match='CoreyMSchafer@gmail.com'>\n",
      "<re.Match object; span=(25, 49), match='Corey.MSchafer@gmail.com'>\n",
      "<re.Match object; span=(50, 78), match='corey.schafer@university.edu'>\n",
      "<re.Match object; span=(79, 108), match='corey-321-schafer@my-work.net'>\n"
     ]
    }
   ],
   "source": [
    "# pattern = re.compile(r'\\w*\\@gmail\\.com')  \n",
    "pattern = re.compile(r'[A-Za-z0-9_.]+@gmail\\.com')  \n",
    "pattern = re.compile(r'[a-zA-Z0-9_.+-]+@[a-zA-Z0-9-]+\\.[a-zA-Z0-9-.]+')\n",
    "\n",
    "matches = pattern.finditer(emails)\n",
    "\n",
    "for match in matches:\n",
    "    print(match)"
   ]
  },
  {
   "cell_type": "markdown",
   "metadata": {},
   "source": [
    "### Chack from separete file - data.txt"
   ]
  },
  {
   "cell_type": "code",
   "execution_count": 103,
   "metadata": {},
   "outputs": [],
   "source": [
    "with open ('data.txt', 'r') as f:\n",
    "    contents = f.read()"
   ]
  },
  {
   "cell_type": "code",
   "execution_count": 105,
   "metadata": {},
   "outputs": [
    {
     "name": "stdout",
     "output_type": "stream",
     "text": [
      "<re.Match object; span=(12, 24), match='615-555-7164'>\n",
      "<re.Match object; span=(102, 114), match='800-555-5669'>\n",
      "<re.Match object; span=(191, 203), match='560-555-5153'>\n",
      "<re.Match object; span=(281, 293), match='900-555-9340'>\n",
      "<re.Match object; span=(378, 390), match='714-555-7405'>\n",
      "<re.Match object; span=(467, 479), match='800-555-6771'>\n",
      "<re.Match object; span=(557, 569), match='783-555-4799'>\n",
      "<re.Match object; span=(647, 659), match='516-555-4615'>\n",
      "<re.Match object; span=(740, 752), match='127-555-1867'>\n",
      "<re.Match object; span=(829, 841), match='608-555-4938'>\n",
      "<re.Match object; span=(915, 927), match='568-555-6051'>\n",
      "<re.Match object; span=(1003, 1015), match='292-555-1875'>\n",
      "<re.Match object; span=(1091, 1103), match='900-555-3205'>\n",
      "<re.Match object; span=(1180, 1192), match='614-555-1166'>\n",
      "<re.Match object; span=(1269, 1281), match='530-555-2676'>\n",
      "<re.Match object; span=(1355, 1367), match='470-555-2750'>\n",
      "<re.Match object; span=(1439, 1451), match='800-555-6089'>\n",
      "<re.Match object; span=(1526, 1538), match='880-555-8319'>\n",
      "<re.Match object; span=(1614, 1626), match='777-555-8378'>\n",
      "<re.Match object; span=(1697, 1709), match='998-555-7385'>\n",
      "<re.Match object; span=(1790, 1802), match='800-555-7100'>\n",
      "<re.Match object; span=(1874, 1886), match='903-555-8277'>\n",
      "<re.Match object; span=(1962, 1974), match='196-555-5674'>\n",
      "<re.Match object; span=(2051, 2063), match='900-555-5118'>\n",
      "<re.Match object; span=(2135, 2147), match='905-555-1630'>\n",
      "<re.Match object; span=(2216, 2228), match='203-555-3475'>\n",
      "<re.Match object; span=(2300, 2312), match='884-555-8444'>\n",
      "<re.Match object; span=(2387, 2399), match='904-555-8559'>\n",
      "<re.Match object; span=(2475, 2487), match='889-555-7393'>\n",
      "<re.Match object; span=(2562, 2574), match='195-555-2405'>\n",
      "<re.Match object; span=(2647, 2659), match='321-555-9053'>\n",
      "<re.Match object; span=(2734, 2746), match='133-555-1711'>\n",
      "<re.Match object; span=(2826, 2838), match='900-555-5428'>\n",
      "<re.Match object; span=(2915, 2927), match='760-555-7147'>\n",
      "<re.Match object; span=(3012, 3024), match='391-555-6621'>\n",
      "<re.Match object; span=(3103, 3115), match='932-555-7724'>\n",
      "<re.Match object; span=(3192, 3204), match='609-555-7908'>\n",
      "<re.Match object; span=(3284, 3296), match='800-555-8810'>\n",
      "<re.Match object; span=(3372, 3384), match='149-555-7657'>\n",
      "<re.Match object; span=(3452, 3464), match='130-555-9709'>\n",
      "<re.Match object; span=(3535, 3547), match='143-555-9295'>\n",
      "<re.Match object; span=(3624, 3636), match='903-555-9878'>\n",
      "<re.Match object; span=(3714, 3726), match='574-555-3194'>\n",
      "<re.Match object; span=(3802, 3814), match='496-555-7533'>\n",
      "<re.Match object; span=(3887, 3899), match='210-555-3757'>\n",
      "<re.Match object; span=(3971, 3983), match='900-555-9598'>\n",
      "<re.Match object; span=(4056, 4068), match='866-555-9844'>\n",
      "<re.Match object; span=(4140, 4152), match='669-555-7159'>\n",
      "<re.Match object; span=(4225, 4237), match='152-555-7417'>\n",
      "<re.Match object; span=(4317, 4329), match='893-555-9832'>\n",
      "<re.Match object; span=(4407, 4419), match='217-555-7123'>\n",
      "<re.Match object; span=(4498, 4510), match='786-555-6544'>\n",
      "<re.Match object; span=(4588, 4600), match='780-555-2574'>\n",
      "<re.Match object; span=(4676, 4688), match='926-555-8735'>\n",
      "<re.Match object; span=(4762, 4774), match='895-555-3539'>\n",
      "<re.Match object; span=(4859, 4871), match='874-555-3949'>\n",
      "<re.Match object; span=(4945, 4957), match='800-555-2420'>\n",
      "<re.Match object; span=(5034, 5046), match='936-555-6340'>\n",
      "<re.Match object; span=(5123, 5135), match='372-555-9809'>\n",
      "<re.Match object; span=(5210, 5222), match='890-555-5618'>\n",
      "<re.Match object; span=(5292, 5304), match='670-555-3005'>\n",
      "<re.Match object; span=(5382, 5394), match='509-555-5997'>\n",
      "<re.Match object; span=(5475, 5487), match='721-555-5632'>\n",
      "<re.Match object; span=(5566, 5578), match='900-555-3567'>\n",
      "<re.Match object; span=(5656, 5668), match='147-555-6830'>\n",
      "<re.Match object; span=(5745, 5757), match='582-555-3426'>\n",
      "<re.Match object; span=(5830, 5842), match='400-555-1706'>\n",
      "<re.Match object; span=(5921, 5933), match='525-555-1793'>\n",
      "<re.Match object; span=(6011, 6023), match='317-555-6700'>\n",
      "<re.Match object; span=(6099, 6111), match='974-555-8301'>\n",
      "<re.Match object; span=(6189, 6201), match='800-555-3216'>\n",
      "<re.Match object; span=(6273, 6285), match='746-555-4094'>\n",
      "<re.Match object; span=(6360, 6372), match='922-555-1773'>\n",
      "<re.Match object; span=(6445, 6457), match='711-555-4427'>\n",
      "<re.Match object; span=(6530, 6542), match='355-555-1872'>\n",
      "<re.Match object; span=(6619, 6631), match='852-555-6521'>\n",
      "<re.Match object; span=(6711, 6723), match='691-555-5773'>\n",
      "<re.Match object; span=(6803, 6815), match='332-555-5441'>\n",
      "<re.Match object; span=(6889, 6901), match='900-555-7755'>\n",
      "<re.Match object; span=(6971, 6983), match='379-555-3685'>\n",
      "<re.Match object; span=(7061, 7073), match='127-555-9682'>\n",
      "<re.Match object; span=(7152, 7164), match='789-555-7032'>\n",
      "<re.Match object; span=(7243, 7255), match='783-555-5135'>\n",
      "<re.Match object; span=(7336, 7348), match='315-555-6507'>\n",
      "<re.Match object; span=(7427, 7439), match='481-555-5835'>\n",
      "<re.Match object; span=(7515, 7527), match='365-555-8287'>\n",
      "<re.Match object; span=(7607, 7619), match='911-555-7535'>\n",
      "<re.Match object; span=(7693, 7705), match='681-555-2460'>\n",
      "<re.Match object; span=(7779, 7791), match='274-555-9800'>\n",
      "<re.Match object; span=(7864, 7876), match='800-555-1372'>\n",
      "<re.Match object; span=(7953, 7965), match='300-555-7821'>\n",
      "<re.Match object; span=(8043, 8055), match='133-555-3889'>\n",
      "<re.Match object; span=(8129, 8141), match='705-555-6863'>\n",
      "<re.Match object; span=(8218, 8230), match='215-555-9449'>\n",
      "<re.Match object; span=(8309, 8321), match='988-555-6112'>\n",
      "<re.Match object; span=(8395, 8407), match='623-555-3006'>\n",
      "<re.Match object; span=(8479, 8491), match='192-555-4977'>\n",
      "<re.Match object; span=(8564, 8576), match='178-555-4899'>\n",
      "<re.Match object; span=(8648, 8660), match='952-555-3089'>\n",
      "<re.Match object; span=(8741, 8753), match='900-555-6426'>\n"
     ]
    }
   ],
   "source": [
    "pattern = re.compile(r'\\d{3}[-.*]\\d{3}[-.*]\\d{4}') # Find all phone number from separete file\n",
    "\n",
    "matches = pattern.finditer(contents)\n",
    "\n",
    "for match in matches:\n",
    "    print(match)"
   ]
  },
  {
   "cell_type": "code",
   "execution_count": 270,
   "metadata": {},
   "outputs": [
    {
     "name": "stdout",
     "output_type": "stream",
     "text": [
      "<re.Match object; span=(60, 85), match='davemartin@bogusemail.com'>\n",
      "<re.Match object; span=(147, 175), match='charlesharris@bogusemail.com'>\n",
      "<re.Match object; span=(235, 263), match='laurawilliams@bogusemail.com'>\n",
      "<re.Match object; span=(325, 354), match='coreyjefferson@bogusemail.com'>\n",
      "<re.Match object; span=(425, 453), match='jenniferwhite@bogusemail.com'>\n",
      "<re.Match object; span=(517, 540), match='tomdavis@bogusemail.com'>\n",
      "<re.Match object; span=(601, 629), match='neilpatterson@bogusemail.com'>\n",
      "<re.Match object; span=(695, 724), match='laurajefferson@bogusemail.com'>\n",
      "<re.Match object; span=(785, 812), match='mariajohnson@bogusemail.com'>\n",
      "<re.Match object; span=(871, 899), match='michaelarnold@bogusemail.com'>\n",
      "<re.Match object; span=(962, 989), match='michaelsmith@bogusemail.com'>\n",
      "<re.Match object; span=(1049, 1076), match='robertstuart@bogusemail.com'>\n",
      "<re.Match object; span=(1137, 1163), match='lauramartin@bogusemail.com'>\n",
      "<re.Match object; span=(1225, 1253), match='barbaramartin@bogusemail.com'>\n",
      "<re.Match object; span=(1314, 1341), match='lindajackson@bogusemail.com'>\n",
      "<re.Match object; span=(1399, 1425), match='stevemiller@bogusemail.com'>\n",
      "<re.Match object; span=(1483, 1508), match='davearnold@bogusemail.com'>\n",
      "<re.Match object; span=(1571, 1600), match='jenniferjacobs@bogusemail.com'>\n",
      "<re.Match object; span=(1657, 1682), match='neilwilson@bogusemail.com'>\n",
      "<re.Match object; span=(1750, 1776), match='kurtjackson@bogusemail.com'>\n",
      "<re.Match object; span=(1833, 1858), match='maryjacobs@bogusemail.com'>\n",
      "<re.Match object; span=(1916, 1943), match='michaelwhite@bogusemail.com'>\n",
      "<re.Match object; span=(2008, 2038), match='jenniferjenkins@bogusemail.com'>\n",
      "<re.Match object; span=(2098, 2122), match='samwright@bogusemail.com'>\n",
      "<re.Match object; span=(2179, 2203), match='johndavis@bogusemail.com'>\n",
      "<re.Match object; span=(2260, 2284), match='neildavis@bogusemail.com'>\n",
      "<re.Match object; span=(2344, 2371), match='laurajackson@bogusemail.com'>\n",
      "<re.Match object; span=(2431, 2458), match='johnwilliams@bogusemail.com'>\n",
      "<re.Match object; span=(2519, 2547), match='michaelmartin@bogusemail.com'>\n",
      "<re.Match object; span=(2607, 2633), match='maggiebrown@bogusemail.com'>\n",
      "<re.Match object; span=(2690, 2715), match='kurtwilson@bogusemail.com'>\n",
      "<re.Match object; span=(2782, 2812), match='elizabetharnold@bogusemail.com'>\n",
      "<re.Match object; span=(2873, 2898), match='janemartin@bogusemail.com'>\n",
      "<re.Match object; span=(2966, 2994), match='travisjohnson@bogusemail.com'>\n",
      "<re.Match object; span=(3059, 3088), match='laurajefferson@bogusemail.com'>\n",
      "<re.Match object; span=(3148, 3174), match='tomwilliams@bogusemail.com'>\n",
      "<re.Match object; span=(3240, 3269), match='jennifertaylor@bogusemail.com'>\n",
      "<re.Match object; span=(3331, 3360), match='jenniferwright@bogusemail.com'>\n",
      "<re.Match object; span=(3416, 3439), match='stevedoe@bogusemail.com'>\n",
      "<re.Match object; span=(3496, 3520), match='kurtdavis@bogusemail.com'>\n",
      "<re.Match object; span=(3582, 3608), match='coreyharris@bogusemail.com'>\n",
      "<re.Match object; span=(3669, 3696), match='nicoletaylor@bogusemail.com'>\n",
      "<re.Match object; span=(3756, 3785), match='elizabethdavis@bogusemail.com'>\n",
      "<re.Match object; span=(3845, 3873), match='maggiejenkins@bogusemail.com'>\n",
      "<re.Match object; span=(3933, 3958), match='lindadavis@bogusemail.com'>\n",
      "<re.Match object; span=(4016, 4040), match='davemoore@bogusemail.com'>\n",
      "<re.Match object; span=(4100, 4127), match='lindajenkins@bogusemail.com'>\n",
      "<re.Match object; span=(4185, 4208), match='samwhite@bogusemail.com'>\n",
      "<re.Match object; span=(4269, 4297), match='laurarobinson@bogusemail.com'>\n",
      "<re.Match object; span=(4362, 4393), match='charlespatterson@bogusemail.com'>\n",
      "<re.Match object; span=(4455, 4480), match='joejackson@bogusemail.com'>\n",
      "<re.Match object; span=(4544, 4573), match='michaeljohnson@bogusemail.com'>\n",
      "<re.Match object; span=(4636, 4662), match='coreymiller@bogusemail.com'>\n",
      "<re.Match object; span=(4719, 4744), match='jamesmoore@bogusemail.com'>\n",
      "<re.Match object; span=(4813, 4842), match='jenniferstuart@bogusemail.com'>\n",
      "<re.Match object; span=(4904, 4932), match='charlesmartin@bogusemail.com'>\n",
      "<re.Match object; span=(4992, 5015), match='joewilks@bogusemail.com'>\n",
      "<re.Match object; span=(5079, 5109), match='elizabetharnold@bogusemail.com'>\n",
      "<re.Match object; span=(5169, 5194), match='johnmiller@bogusemail.com'>\n",
      "<re.Match object; span=(5252, 5279), match='coreyjackson@bogusemail.com'>\n",
      "<re.Match object; span=(5340, 5364), match='samthomas@bogusemail.com'>\n",
      "<re.Match object; span=(5429, 5458), match='patriciathomas@bogusemail.com'>\n",
      "<re.Match object; span=(5521, 5549), match='jenniferdavis@bogusemail.com'>\n",
      "<re.Match object; span=(5609, 5637), match='patriciabrown@bogusemail.com'>\n",
      "<re.Match object; span=(5700, 5730), match='barbarawilliams@bogusemail.com'>\n",
      "<re.Match object; span=(5790, 5816), match='jamestaylor@bogusemail.com'>\n",
      "<re.Match object; span=(5875, 5903), match='barbaraharris@bogusemail.com'>\n",
      "<re.Match object; span=(5967, 5996), match='travisanderson@bogusemail.com'>\n",
      "<re.Match object; span=(6056, 6082), match='samrobinson@bogusemail.com'>\n",
      "<re.Match object; span=(6147, 6175), match='steverobinson@bogusemail.com'>\n",
      "<re.Match object; span=(6235, 6260), match='marywilson@bogusemail.com'>\n",
      "<re.Match object; span=(6320, 6344), match='samwilson@bogusemail.com'>\n",
      "<re.Match object; span=(6404, 6431), match='charlesjones@bogusemail.com'>\n",
      "<re.Match object; span=(6492, 6517), match='laurabrown@bogusemail.com'>\n",
      "<re.Match object; span=(6577, 6601), match='tomharris@bogusemail.com'>\n",
      "<re.Match object; span=(6663, 6692), match='patriciataylor@bogusemail.com'>\n",
      "<re.Match object; span=(6756, 6786), match='barbarawilliams@bogusemail.com'>\n",
      "<re.Match object; span=(6847, 6875), match='maggiejohnson@bogusemail.com'>\n",
      "<re.Match object; span=(6932, 6957), match='kurtmiller@bogusemail.com'>\n",
      "<re.Match object; span=(7018, 7043), match='neilstuart@bogusemail.com'>\n",
      "<re.Match object; span=(7107, 7136), match='lindapatterson@bogusemail.com'>\n",
      "<re.Match object; span=(7195, 7222), match='charlesdavis@bogusemail.com'>\n",
      "<re.Match object; span=(7289, 7321), match='jenniferjefferson@bogusemail.com'>\n",
      "<re.Match object; span=(7386, 7412), match='coreytaylor@bogusemail.com'>\n",
      "<re.Match object; span=(7472, 7498), match='robertwilks@bogusemail.com'>\n",
      "<re.Match object; span=(7562, 7590), match='travisjackson@bogusemail.com'>\n",
      "<re.Match object; span=(7651, 7679), match='travisjackson@bogusemail.com'>\n",
      "<re.Match object; span=(7740, 7765), match='laurawilks@bogusemail.com'>\n",
      "<re.Match object; span=(7823, 7848), match='neilarnold@bogusemail.com'>\n",
      "<re.Match object; span=(7908, 7935), match='lindajohnson@bogusemail.com'>\n",
      "<re.Match object; span=(7999, 8028), match='jenniferwilson@bogusemail.com'>\n",
      "<re.Match object; span=(8088, 8114), match='nicolewhite@bogusemail.com'>\n",
      "<re.Match object; span=(8175, 8201), match='mariaarnold@bogusemail.com'>\n",
      "<re.Match object; span=(8264, 8292), match='jenniferdavis@bogusemail.com'>\n",
      "<re.Match object; span=(8353, 8381), match='marypatterson@bogusemail.com'>\n",
      "<re.Match object; span=(8439, 8464), match='janestuart@bogusemail.com'>\n",
      "<re.Match object; span=(8523, 8549), match='robertdavis@bogusemail.com'>\n",
      "<re.Match object; span=(8608, 8634), match='jamestaylor@bogusemail.com'>\n",
      "<re.Match object; span=(8699, 8724), match='johnstuart@bogusemail.com'>\n",
      "<re.Match object; span=(8794, 8822), match='charlesmiller@bogusemail.com'>\n"
     ]
    }
   ],
   "source": [
    "pattern = re.compile(r'[a-zA-Z0-9_.+-]+@[a-zA-Z0-9-]+\\.[a-zA-Z0-9-.]+') # Find all email\n",
    "\n",
    "matches = pattern.finditer(contents)\n",
    "\n",
    "for match in matches:\n",
    "    print(match)"
   ]
  },
  {
   "cell_type": "code",
   "execution_count": 269,
   "metadata": {},
   "outputs": [
    {
     "name": "stdout",
     "output_type": "stream",
     "text": [
      "\n",
      "google.com\n",
      "coreyms.com\n",
      "youtube.com\n",
      "nasa.gov\n",
      "\n"
     ]
    }
   ],
   "source": [
    "urls = '''\n",
    "https://www.google.com\n",
    "http://coreyms.com\n",
    "https://youtube.com\n",
    "https://www.nasa.gov\n",
    "'''\n",
    "\n",
    "pattern = re.compile(r'https?://(www\\.)?(\\w+)(\\.\\w+)')\n",
    "\n",
    "subbed_urls = pattern.sub(r'\\2\\3', urls)\n",
    "\n",
    "print(subbed_urls)"
   ]
  },
  {
   "cell_type": "code",
   "execution_count": null,
   "metadata": {},
   "outputs": [],
   "source": []
  }
 ],
 "metadata": {
  "kernelspec": {
   "display_name": "Python 3.8.9 64-bit",
   "language": "python",
   "name": "python3"
  },
  "language_info": {
   "codemirror_mode": {
    "name": "ipython",
    "version": 3
   },
   "file_extension": ".py",
   "mimetype": "text/x-python",
   "name": "python",
   "nbconvert_exporter": "python",
   "pygments_lexer": "ipython3",
   "version": "3.8.9"
  },
  "orig_nbformat": 4,
  "vscode": {
   "interpreter": {
    "hash": "31f2aee4e71d21fbe5cf8b01ff0e069b9275f58929596ceb00d14d90e3e16cd6"
   }
  }
 },
 "nbformat": 4,
 "nbformat_minor": 2
}
